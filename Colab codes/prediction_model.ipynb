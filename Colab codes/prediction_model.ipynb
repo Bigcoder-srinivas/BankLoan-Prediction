{
  "nbformat": 4,
  "nbformat_minor": 0,
  "metadata": {
    "kernelspec": {
      "display_name": "Python 3",
      "language": "python",
      "name": "python3"
    },
    "language_info": {
      "codemirror_mode": {
        "name": "ipython",
        "version": 3
      },
      "file_extension": ".py",
      "mimetype": "text/x-python",
      "name": "python",
      "nbconvert_exporter": "python",
      "pygments_lexer": "ipython3",
      "version": "3.8.8"
    },
    "colab": {
      "name": "prediction_model.ipynb",
      "provenance": []
    }
  },
  "cells": [
    {
      "cell_type": "code",
      "metadata": {
        "_cell_guid": "79c7e3d0-c299-4dcb-8224-4455121ee9b0",
        "_uuid": "d629ff2d2480ee46fbb7e2d37f6b5fab8052498a",
        "id": "IyckzAo4hh9P"
      },
      "source": [
        "#Import Libraries\n",
        "import os\n",
        "import numpy as np\n",
        "import pandas as pd\n",
        "import matplotlib.pyplot as plt\n",
        "%matplotlib inline\n",
        "import seaborn as sns\n",
        "sns.set()\n",
        "from sklearn.model_selection import train_test_split\n",
        "from sklearn.preprocessing import StandardScaler\n",
        "from numpy import loadtxt\n",
        "from sklearn.linear_model import LogisticRegression\n",
        "from sklearn.metrics import accuracy_score\n",
        "from sklearn.metrics import f1_score\n",
        "\n",
        "import pickle\n"
      ],
      "execution_count": 1,
      "outputs": []
    },
    {
      "cell_type": "code",
      "metadata": {
        "colab": {
          "base_uri": "https://localhost:8080/"
        },
        "id": "fDCMRHrXi5bl",
        "outputId": "6ce584d6-d10b-4740-826f-fe79aa829093"
      },
      "source": [
        "from google.colab import drive\n",
        "drive.mount('/content/drive')"
      ],
      "execution_count": 2,
      "outputs": [
        {
          "output_type": "stream",
          "name": "stdout",
          "text": [
            "Mounted at /content/drive\n"
          ]
        }
      ]
    },
    {
      "cell_type": "code",
      "metadata": {
        "id": "g8CgIU6Mhh9X"
      },
      "source": [
        "data = pd.read_csv('/content/drive/MyDrive/Train_Loan_Home.csv') #import the train dataset\n"
      ],
      "execution_count": 3,
      "outputs": []
    },
    {
      "cell_type": "code",
      "metadata": {
        "colab": {
          "base_uri": "https://localhost:8080/",
          "height": 240
        },
        "id": "k3qNoVCjhh9Z",
        "outputId": "b661387d-8a01-42ae-c6e3-dbb388dc1595"
      },
      "source": [
        "data.head()"
      ],
      "execution_count": 4,
      "outputs": [
        {
          "output_type": "execute_result",
          "data": {
            "text/html": [
              "<div>\n",
              "<style scoped>\n",
              "    .dataframe tbody tr th:only-of-type {\n",
              "        vertical-align: middle;\n",
              "    }\n",
              "\n",
              "    .dataframe tbody tr th {\n",
              "        vertical-align: top;\n",
              "    }\n",
              "\n",
              "    .dataframe thead th {\n",
              "        text-align: right;\n",
              "    }\n",
              "</style>\n",
              "<table border=\"1\" class=\"dataframe\">\n",
              "  <thead>\n",
              "    <tr style=\"text-align: right;\">\n",
              "      <th></th>\n",
              "      <th>Loan_ID</th>\n",
              "      <th>Gender</th>\n",
              "      <th>Married</th>\n",
              "      <th>Dependents</th>\n",
              "      <th>Education</th>\n",
              "      <th>Self_Employed</th>\n",
              "      <th>ApplicantIncome</th>\n",
              "      <th>CoapplicantIncome</th>\n",
              "      <th>LoanAmount</th>\n",
              "      <th>Loan_Amount_Term</th>\n",
              "      <th>Credit_History</th>\n",
              "      <th>Property_Area</th>\n",
              "      <th>Loan_Status</th>\n",
              "    </tr>\n",
              "  </thead>\n",
              "  <tbody>\n",
              "    <tr>\n",
              "      <th>0</th>\n",
              "      <td>LP001002</td>\n",
              "      <td>Male</td>\n",
              "      <td>No</td>\n",
              "      <td>0</td>\n",
              "      <td>Graduate</td>\n",
              "      <td>No</td>\n",
              "      <td>5849</td>\n",
              "      <td>0.0</td>\n",
              "      <td>NaN</td>\n",
              "      <td>360.0</td>\n",
              "      <td>1.0</td>\n",
              "      <td>Urban</td>\n",
              "      <td>Y</td>\n",
              "    </tr>\n",
              "    <tr>\n",
              "      <th>1</th>\n",
              "      <td>LP001003</td>\n",
              "      <td>Male</td>\n",
              "      <td>Yes</td>\n",
              "      <td>1</td>\n",
              "      <td>Graduate</td>\n",
              "      <td>No</td>\n",
              "      <td>4583</td>\n",
              "      <td>1508.0</td>\n",
              "      <td>128.0</td>\n",
              "      <td>360.0</td>\n",
              "      <td>1.0</td>\n",
              "      <td>Rural</td>\n",
              "      <td>N</td>\n",
              "    </tr>\n",
              "    <tr>\n",
              "      <th>2</th>\n",
              "      <td>LP001005</td>\n",
              "      <td>Male</td>\n",
              "      <td>Yes</td>\n",
              "      <td>0</td>\n",
              "      <td>Graduate</td>\n",
              "      <td>Yes</td>\n",
              "      <td>3000</td>\n",
              "      <td>0.0</td>\n",
              "      <td>66.0</td>\n",
              "      <td>360.0</td>\n",
              "      <td>1.0</td>\n",
              "      <td>Urban</td>\n",
              "      <td>Y</td>\n",
              "    </tr>\n",
              "    <tr>\n",
              "      <th>3</th>\n",
              "      <td>LP001006</td>\n",
              "      <td>Male</td>\n",
              "      <td>Yes</td>\n",
              "      <td>0</td>\n",
              "      <td>Not Graduate</td>\n",
              "      <td>No</td>\n",
              "      <td>2583</td>\n",
              "      <td>2358.0</td>\n",
              "      <td>120.0</td>\n",
              "      <td>360.0</td>\n",
              "      <td>1.0</td>\n",
              "      <td>Urban</td>\n",
              "      <td>Y</td>\n",
              "    </tr>\n",
              "    <tr>\n",
              "      <th>4</th>\n",
              "      <td>LP001008</td>\n",
              "      <td>Male</td>\n",
              "      <td>No</td>\n",
              "      <td>0</td>\n",
              "      <td>Graduate</td>\n",
              "      <td>No</td>\n",
              "      <td>6000</td>\n",
              "      <td>0.0</td>\n",
              "      <td>141.0</td>\n",
              "      <td>360.0</td>\n",
              "      <td>1.0</td>\n",
              "      <td>Urban</td>\n",
              "      <td>Y</td>\n",
              "    </tr>\n",
              "  </tbody>\n",
              "</table>\n",
              "</div>"
            ],
            "text/plain": [
              "    Loan_ID Gender Married  ... Credit_History Property_Area Loan_Status\n",
              "0  LP001002   Male      No  ...            1.0         Urban           Y\n",
              "1  LP001003   Male     Yes  ...            1.0         Rural           N\n",
              "2  LP001005   Male     Yes  ...            1.0         Urban           Y\n",
              "3  LP001006   Male     Yes  ...            1.0         Urban           Y\n",
              "4  LP001008   Male      No  ...            1.0         Urban           Y\n",
              "\n",
              "[5 rows x 13 columns]"
            ]
          },
          "metadata": {},
          "execution_count": 4
        }
      ]
    },
    {
      "cell_type": "markdown",
      "metadata": {
        "id": "X-hwzDAFhh9b"
      },
      "source": [
        "DATA EXPLORATION / PREPROCESSING Data-Preprocessing steps:\n",
        "\n",
        "Handling missing values Creation of Dummy variables Replacing the data-values"
      ]
    },
    {
      "cell_type": "code",
      "metadata": {
        "colab": {
          "base_uri": "https://localhost:8080/"
        },
        "id": "SN9VH23Whh9e",
        "outputId": "095a6d24-aed7-457a-a812-91f1dba328a0"
      },
      "source": [
        "data.info() #There are 3 different datatypes in the dataset which include float64(4), int64(1), object(8)"
      ],
      "execution_count": 5,
      "outputs": [
        {
          "output_type": "stream",
          "name": "stdout",
          "text": [
            "<class 'pandas.core.frame.DataFrame'>\n",
            "RangeIndex: 614 entries, 0 to 613\n",
            "Data columns (total 13 columns):\n",
            " #   Column             Non-Null Count  Dtype  \n",
            "---  ------             --------------  -----  \n",
            " 0   Loan_ID            614 non-null    object \n",
            " 1   Gender             601 non-null    object \n",
            " 2   Married            611 non-null    object \n",
            " 3   Dependents         599 non-null    object \n",
            " 4   Education          614 non-null    object \n",
            " 5   Self_Employed      582 non-null    object \n",
            " 6   ApplicantIncome    614 non-null    int64  \n",
            " 7   CoapplicantIncome  614 non-null    float64\n",
            " 8   LoanAmount         592 non-null    float64\n",
            " 9   Loan_Amount_Term   600 non-null    float64\n",
            " 10  Credit_History     564 non-null    float64\n",
            " 11  Property_Area      614 non-null    object \n",
            " 12  Loan_Status        614 non-null    object \n",
            "dtypes: float64(4), int64(1), object(8)\n",
            "memory usage: 62.5+ KB\n"
          ]
        }
      ]
    },
    {
      "cell_type": "code",
      "metadata": {
        "colab": {
          "base_uri": "https://localhost:8080/"
        },
        "id": "jmm5HhK3hh9g",
        "outputId": "ea7f94ea-68fc-41cf-b0bc-19f0ef3be1a3"
      },
      "source": [
        "data.isna().sum()  #print out sum of null values in each column"
      ],
      "execution_count": 6,
      "outputs": [
        {
          "output_type": "execute_result",
          "data": {
            "text/plain": [
              "Loan_ID               0\n",
              "Gender               13\n",
              "Married               3\n",
              "Dependents           15\n",
              "Education             0\n",
              "Self_Employed        32\n",
              "ApplicantIncome       0\n",
              "CoapplicantIncome     0\n",
              "LoanAmount           22\n",
              "Loan_Amount_Term     14\n",
              "Credit_History       50\n",
              "Property_Area         0\n",
              "Loan_Status           0\n",
              "dtype: int64"
            ]
          },
          "metadata": {},
          "execution_count": 6
        }
      ]
    },
    {
      "cell_type": "code",
      "metadata": {
        "colab": {
          "base_uri": "https://localhost:8080/",
          "height": 382
        },
        "id": "Vt2V4p8Zhh9h",
        "outputId": "ab6b9cdb-db30-4077-e654-230e22a8e4fd"
      },
      "source": [
        "sns.heatmap(data.isnull(),yticklabels=False,cbar=False,cmap='viridis') #i used the seaborn heatmap to visualize null values in each column"
      ],
      "execution_count": 7,
      "outputs": [
        {
          "output_type": "execute_result",
          "data": {
            "text/plain": [
              "<matplotlib.axes._subplots.AxesSubplot at 0x7f4fd347d790>"
            ]
          },
          "metadata": {},
          "execution_count": 7
        },
        {
          "output_type": "display_data",
          "data": {
            "image/png": "[encoded data removed]",
            "text/plain": [
              "<Figure size 432x288 with 1 Axes>"
            ]
          },
          "metadata": {
            "needs_background": "light"
          }
        }
      ]
    },
    {
      "cell_type": "markdown",
      "metadata": {
        "id": "02iP0lOuhh9i"
      },
      "source": [
        "* * * * from the visualization above we have missing values in gender,dependents,self-employed,loanAmount,loan-amount-term,credit-history"
      ]
    },
    {
      "cell_type": "code",
      "metadata": {
        "colab": {
          "base_uri": "https://localhost:8080/",
          "height": 454
        },
        "id": "010YT-Ikhh9k",
        "outputId": "5a3f430d-4820-4a69-86ec-904919af0cd0"
      },
      "source": [
        "data = data.fillna(data.mean().iloc[0]) #i used the fillna function to fill the missing values\n",
        "data"
      ],
      "execution_count": 8,
      "outputs": [
        {
          "output_type": "execute_result",
          "data": {
            "text/html": [
              "<div>\n",
              "<style scoped>\n",
              "    .dataframe tbody tr th:only-of-type {\n",
              "        vertical-align: middle;\n",
              "    }\n",
              "\n",
              "    .dataframe tbody tr th {\n",
              "        vertical-align: top;\n",
              "    }\n",
              "\n",
              "    .dataframe thead th {\n",
              "        text-align: right;\n",
              "    }\n",
              "</style>\n",
              "<table border=\"1\" class=\"dataframe\">\n",
              "  <thead>\n",
              "    <tr style=\"text-align: right;\">\n",
              "      <th></th>\n",
              "      <th>Loan_ID</th>\n",
              "      <th>Gender</th>\n",
              "      <th>Married</th>\n",
              "      <th>Dependents</th>\n",
              "      <th>Education</th>\n",
              "      <th>Self_Employed</th>\n",
              "      <th>ApplicantIncome</th>\n",
              "      <th>CoapplicantIncome</th>\n",
              "      <th>LoanAmount</th>\n",
              "      <th>Loan_Amount_Term</th>\n",
              "      <th>Credit_History</th>\n",
              "      <th>Property_Area</th>\n",
              "      <th>Loan_Status</th>\n",
              "    </tr>\n",
              "  </thead>\n",
              "  <tbody>\n",
              "    <tr>\n",
              "      <th>0</th>\n",
              "      <td>LP001002</td>\n",
              "      <td>Male</td>\n",
              "      <td>No</td>\n",
              "      <td>0</td>\n",
              "      <td>Graduate</td>\n",
              "      <td>No</td>\n",
              "      <td>5849</td>\n",
              "      <td>0.0</td>\n",
              "      <td>5403.459283</td>\n",
              "      <td>360.0</td>\n",
              "      <td>1.0</td>\n",
              "      <td>Urban</td>\n",
              "      <td>Y</td>\n",
              "    </tr>\n",
              "    <tr>\n",
              "      <th>1</th>\n",
              "      <td>LP001003</td>\n",
              "      <td>Male</td>\n",
              "      <td>Yes</td>\n",
              "      <td>1</td>\n",
              "      <td>Graduate</td>\n",
              "      <td>No</td>\n",
              "      <td>4583</td>\n",
              "      <td>1508.0</td>\n",
              "      <td>128.000000</td>\n",
              "      <td>360.0</td>\n",
              "      <td>1.0</td>\n",
              "      <td>Rural</td>\n",
              "      <td>N</td>\n",
              "    </tr>\n",
              "    <tr>\n",
              "      <th>2</th>\n",
              "      <td>LP001005</td>\n",
              "      <td>Male</td>\n",
              "      <td>Yes</td>\n",
              "      <td>0</td>\n",
              "      <td>Graduate</td>\n",
              "      <td>Yes</td>\n",
              "      <td>3000</td>\n",
              "      <td>0.0</td>\n",
              "      <td>66.000000</td>\n",
              "      <td>360.0</td>\n",
              "      <td>1.0</td>\n",
              "      <td>Urban</td>\n",
              "      <td>Y</td>\n",
              "    </tr>\n",
              "    <tr>\n",
              "      <th>3</th>\n",
              "      <td>LP001006</td>\n",
              "      <td>Male</td>\n",
              "      <td>Yes</td>\n",
              "      <td>0</td>\n",
              "      <td>Not Graduate</td>\n",
              "      <td>No</td>\n",
              "      <td>2583</td>\n",
              "      <td>2358.0</td>\n",
              "      <td>120.000000</td>\n",
              "      <td>360.0</td>\n",
              "      <td>1.0</td>\n",
              "      <td>Urban</td>\n",
              "      <td>Y</td>\n",
              "    </tr>\n",
              "    <tr>\n",
              "      <th>4</th>\n",
              "      <td>LP001008</td>\n",
              "      <td>Male</td>\n",
              "      <td>No</td>\n",
              "      <td>0</td>\n",
              "      <td>Graduate</td>\n",
              "      <td>No</td>\n",
              "      <td>6000</td>\n",
              "      <td>0.0</td>\n",
              "      <td>141.000000</td>\n",
              "      <td>360.0</td>\n",
              "      <td>1.0</td>\n",
              "      <td>Urban</td>\n",
              "      <td>Y</td>\n",
              "    </tr>\n",
              "    <tr>\n",
              "      <th>...</th>\n",
              "      <td>...</td>\n",
              "      <td>...</td>\n",
              "      <td>...</td>\n",
              "      <td>...</td>\n",
              "      <td>...</td>\n",
              "      <td>...</td>\n",
              "      <td>...</td>\n",
              "      <td>...</td>\n",
              "      <td>...</td>\n",
              "      <td>...</td>\n",
              "      <td>...</td>\n",
              "      <td>...</td>\n",
              "      <td>...</td>\n",
              "    </tr>\n",
              "    <tr>\n",
              "      <th>609</th>\n",
              "      <td>LP002978</td>\n",
              "      <td>Female</td>\n",
              "      <td>No</td>\n",
              "      <td>0</td>\n",
              "      <td>Graduate</td>\n",
              "      <td>No</td>\n",
              "      <td>2900</td>\n",
              "      <td>0.0</td>\n",
              "      <td>71.000000</td>\n",
              "      <td>360.0</td>\n",
              "      <td>1.0</td>\n",
              "      <td>Rural</td>\n",
              "      <td>Y</td>\n",
              "    </tr>\n",
              "    <tr>\n",
              "      <th>610</th>\n",
              "      <td>LP002979</td>\n",
              "      <td>Male</td>\n",
              "      <td>Yes</td>\n",
              "      <td>3+</td>\n",
              "      <td>Graduate</td>\n",
              "      <td>No</td>\n",
              "      <td>4106</td>\n",
              "      <td>0.0</td>\n",
              "      <td>40.000000</td>\n",
              "      <td>180.0</td>\n",
              "      <td>1.0</td>\n",
              "      <td>Rural</td>\n",
              "      <td>Y</td>\n",
              "    </tr>\n",
              "    <tr>\n",
              "      <th>611</th>\n",
              "      <td>LP002983</td>\n",
              "      <td>Male</td>\n",
              "      <td>Yes</td>\n",
              "      <td>1</td>\n",
              "      <td>Graduate</td>\n",
              "      <td>No</td>\n",
              "      <td>8072</td>\n",
              "      <td>240.0</td>\n",
              "      <td>253.000000</td>\n",
              "      <td>360.0</td>\n",
              "      <td>1.0</td>\n",
              "      <td>Urban</td>\n",
              "      <td>Y</td>\n",
              "    </tr>\n",
              "    <tr>\n",
              "      <th>612</th>\n",
              "      <td>LP002984</td>\n",
              "      <td>Male</td>\n",
              "      <td>Yes</td>\n",
              "      <td>2</td>\n",
              "      <td>Graduate</td>\n",
              "      <td>No</td>\n",
              "      <td>7583</td>\n",
              "      <td>0.0</td>\n",
              "      <td>187.000000</td>\n",
              "      <td>360.0</td>\n",
              "      <td>1.0</td>\n",
              "      <td>Urban</td>\n",
              "      <td>Y</td>\n",
              "    </tr>\n",
              "    <tr>\n",
              "      <th>613</th>\n",
              "      <td>LP002990</td>\n",
              "      <td>Female</td>\n",
              "      <td>No</td>\n",
              "      <td>0</td>\n",
              "      <td>Graduate</td>\n",
              "      <td>Yes</td>\n",
              "      <td>4583</td>\n",
              "      <td>0.0</td>\n",
              "      <td>133.000000</td>\n",
              "      <td>360.0</td>\n",
              "      <td>0.0</td>\n",
              "      <td>Semiurban</td>\n",
              "      <td>N</td>\n",
              "    </tr>\n",
              "  </tbody>\n",
              "</table>\n",
              "<p>614 rows × 13 columns</p>\n",
              "</div>"
            ],
            "text/plain": [
              "      Loan_ID  Gender Married  ... Credit_History Property_Area Loan_Status\n",
              "0    LP001002    Male      No  ...            1.0         Urban           Y\n",
              "1    LP001003    Male     Yes  ...            1.0         Rural           N\n",
              "2    LP001005    Male     Yes  ...            1.0         Urban           Y\n",
              "3    LP001006    Male     Yes  ...            1.0         Urban           Y\n",
              "4    LP001008    Male      No  ...            1.0         Urban           Y\n",
              "..        ...     ...     ...  ...            ...           ...         ...\n",
              "609  LP002978  Female      No  ...            1.0         Rural           Y\n",
              "610  LP002979    Male     Yes  ...            1.0         Rural           Y\n",
              "611  LP002983    Male     Yes  ...            1.0         Urban           Y\n",
              "612  LP002984    Male     Yes  ...            1.0         Urban           Y\n",
              "613  LP002990  Female      No  ...            0.0     Semiurban           N\n",
              "\n",
              "[614 rows x 13 columns]"
            ]
          },
          "metadata": {},
          "execution_count": 8
        }
      ]
    },
    {
      "cell_type": "code",
      "metadata": {
        "colab": {
          "base_uri": "https://localhost:8080/",
          "height": 307
        },
        "id": "lrKMw66Whh9l",
        "outputId": "1e9688d7-5a2e-420a-baeb-f5744963fe95"
      },
      "source": [
        "#Relationship between Gender and Loan Status:\n",
        "\n",
        "Gender = ['Male', 'Female']\n",
        "Loan_Status = ['Yes', 'No']\n",
        "pos= np.arange(len(Gender))\n",
        "bar_width= 0.30\n",
        "Loan_Status_Yes= [347,75]\n",
        "Loan_Status_NO= [155,37]\n",
        "\n",
        "plt.bar(pos,Loan_Status_Yes,bar_width,color='green',edgecolor='black')\n",
        "plt.bar(pos+bar_width,Loan_Status_NO,bar_width,color='orange',edgecolor='black')\n",
        "plt.xticks(pos, Gender)\n",
        "plt.xlabel('Gender', fontsize=16)\n",
        "plt.ylabel('Count', fontsize=16)\n",
        "plt.title('Gender vs Loan status',fontsize=18)\n",
        "plt.legend(Loan_Status,loc=1)\n",
        "plt.show()"
      ],
      "execution_count": 9,
      "outputs": [
        {
          "output_type": "display_data",
          "data": {
            "image/png": "[encoded data removed]",
            "text/plain": [
              "<Figure size 432x288 with 1 Axes>"
            ]
          },
          "metadata": {
            "needs_background": "light"
          }
        }
      ]
    },
    {
      "cell_type": "markdown",
      "metadata": {
        "id": "H2pWGxOBhh9m"
      },
      "source": [
        "From the chart above, we can conclude that male applicants have higher percentage of loan approval than female applicants and we move more male than female applying for loan"
      ]
    },
    {
      "cell_type": "code",
      "metadata": {
        "colab": {
          "base_uri": "https://localhost:8080/",
          "height": 307
        },
        "id": "nuBNk9j6hh9o",
        "outputId": "e4feb042-ff24-4ccf-c93a-0ab387bfcd61"
      },
      "source": [
        "#Relationship between marital status vs loan status\n",
        "\n",
        "MaritalStatus=['Yes', 'No']\n",
        "Loan_Status=['Yes', 'No']\n",
        "pos=np.arange(len(MaritalStatus))\n",
        "bar_width=0.30\n",
        "Loan_Status_Yes=[288,134]\n",
        "Loan_Status_NO=[113,79]\n",
        "\n",
        "plt.bar(pos,Loan_Status_Yes,bar_width,color='green',edgecolor='black')\n",
        "plt.bar(pos+bar_width,Loan_Status_NO,bar_width,color='orange',edgecolor='black')\n",
        "plt.xticks(pos, MaritalStatus)\n",
        "plt.xlabel('Marital Status', fontsize=16)\n",
        "plt.ylabel('Count', fontsize=16)\n",
        "plt.title('Marital Status vs Loan status',fontsize=18)\n",
        "plt.legend(Loan_Status,loc=1)\n",
        "plt.show()"
      ],
      "execution_count": 10,
      "outputs": [
        {
          "output_type": "display_data",
          "data": {
            "image/png": "[encoded data removed]",
            "text/plain": [
              "<Figure size 432x288 with 1 Axes>"
            ]
          },
          "metadata": {
            "needs_background": "light"
          }
        }
      ]
    },
    {
      "cell_type": "markdown",
      "metadata": {
        "id": "q4gpaXtKhh9p"
      },
      "source": [
        "From the chart above, we can conclude that the we have more married thand single customer approved for loan"
      ]
    },
    {
      "cell_type": "code",
      "metadata": {
        "colab": {
          "base_uri": "https://localhost:8080/",
          "height": 308
        },
        "id": "LdUl53Rshh9q",
        "outputId": "ba2d1bbf-de3f-41d3-bbc4-fc982b52741b"
      },
      "source": [
        "#Relationship between Dependents vs Loan status\n",
        "\n",
        "\n",
        "Dependents=['Dpdnt_No', 'Dpdnt_1', 'Dpdnt_2', 'Dpdnt_3']\n",
        "Loan_Status=['Yes', 'No']\n",
        "pos=np.arange(len(Dependents))\n",
        "bar_width=0.30\n",
        "Loan_Status_Yes=[247,66,76,33]\n",
        "Loan_Status_NO=[113,36,25,18]\n",
        "\n",
        "plt.bar(pos,Loan_Status_Yes,bar_width,color='green',edgecolor='black')\n",
        "plt.bar(pos+bar_width,Loan_Status_NO,bar_width,color='orange',edgecolor='black')\n",
        "plt.xticks(pos, Dependents)\n",
        "plt.xlabel('Dependents', fontsize=16)\n",
        "plt.ylabel('Count', fontsize=16)\n",
        "plt.title('Dependents vs Loan status',fontsize=18)\n",
        "plt.legend(Loan_Status,loc=1)\n",
        "plt.show()"
      ],
      "execution_count": 11,
      "outputs": [
        {
          "output_type": "display_data",
          "data": {
            "image/png": "[encoded data removed]",
            "text/plain": [
              "<Figure size 432x288 with 1 Axes>"
            ]
          },
          "metadata": {
            "needs_background": "light"
          }
        }
      ]
    },
    {
      "cell_type": "markdown",
      "metadata": {
        "id": "eQO75Zcghh9r"
      },
      "source": [
        "From the chart, we can see that the number of dependents may automatically affect** the approvals of home loans. There is a higher chance of getting home loan approval for applicants who have less number of dependents or no dependents."
      ]
    },
    {
      "cell_type": "code",
      "metadata": {
        "colab": {
          "base_uri": "https://localhost:8080/",
          "height": 307
        },
        "id": "9-9EsBp1hh9s",
        "outputId": "08f8b890-1873-4e60-8fea-01eea87af31b"
      },
      "source": [
        "#Relationship between education vs Loan status:\n",
        "\n",
        "\n",
        "Education=['Graduate', 'Non-Graduate']\n",
        "Loan_Status=['Yes', 'No']\n",
        "pos=np.arange(len(Education))\n",
        "bar_width=0.30\n",
        "Loan_Status_Yes=[340,82]\n",
        "Loan_Status_NO=[140,52]\n",
        "\n",
        "plt.bar(pos,Loan_Status_Yes,bar_width,color='green',edgecolor='black')\n",
        "plt.bar(pos+bar_width,Loan_Status_NO,bar_width,color='orange',edgecolor='black')\n",
        "plt.xticks(pos, Education)\n",
        "plt.xlabel('Education', fontsize=16)\n",
        "plt.ylabel('Count', fontsize=16)\n",
        "plt.title('Education vs Loan status',fontsize=18)\n",
        "plt.legend(Loan_Status,loc=1)\n",
        "plt.show()"
      ],
      "execution_count": 12,
      "outputs": [
        {
          "output_type": "display_data",
          "data": {
            "image/png": "[encoded data removed]",
            "text/plain": [
              "<Figure size 432x288 with 1 Axes>"
            ]
          },
          "metadata": {
            "needs_background": "light"
          }
        }
      ]
    },
    {
      "cell_type": "markdown",
      "metadata": {
        "id": "Zhlv2rnLhh9t"
      },
      "source": [
        "From the chart above, we can conclude** that the applicants who are graduate were in higher percentage of loan approval than non-graduate applicants."
      ]
    },
    {
      "cell_type": "code",
      "metadata": {
        "colab": {
          "base_uri": "https://localhost:8080/",
          "height": 307
        },
        "id": "E6PWJ37ehh9t",
        "outputId": "22672c0a-3674-44bf-efb8-6a1238745d5f"
      },
      "source": [
        "#Relationship between Self-Employed vs Loan_Status:\n",
        "\n",
        "Self_Employed=['Yes', 'No']\n",
        "Loan_Status=['Yes', 'No']\n",
        "pos=np.arange(len(Self_Employed))\n",
        "bar_width=0.30\n",
        "Loan_Status_Yes=[56,366]\n",
        "Loan_Status_NO=[26,166]\n",
        "\n",
        "plt.bar(pos,Loan_Status_Yes,bar_width,color='green',edgecolor='black')\n",
        "plt.bar(pos+bar_width,Loan_Status_NO,bar_width,color='orange',edgecolor='black')\n",
        "plt.xticks(pos, Self_Employed)\n",
        "plt.xlabel('Self Employed', fontsize=16)\n",
        "plt.ylabel('Count', fontsize=16)\n",
        "plt.title('Self Employed vs Loan status',fontsize=18)\n",
        "plt.legend(Loan_Status,loc=1)\n",
        "plt.show()"
      ],
      "execution_count": 13,
      "outputs": [
        {
          "output_type": "display_data",
          "data": {
            "image/png": "[encoded data removed]",
            "text/plain": [
              "<Figure size 432x288 with 1 Axes>"
            ]
          },
          "metadata": {
            "needs_background": "light"
          }
        }
      ]
    },
    {
      "cell_type": "markdown",
      "metadata": {
        "id": "fR7owHAVhh9v"
      },
      "source": [
        "From the chart above, we can see that non self employed applicant were more approved for loan that the self employed applicant"
      ]
    },
    {
      "cell_type": "code",
      "metadata": {
        "colab": {
          "base_uri": "https://localhost:8080/",
          "height": 307
        },
        "id": "eCstxBOHhh9w",
        "outputId": "b2eee472-4e6a-42ac-9686-6dc7a1d637e9"
      },
      "source": [
        "#Relationship between Property area and loan status\n",
        "\n",
        "Property_Area=['Rural','Semiurban','Urban']\n",
        "Loan_Status=['Yes', 'No']\n",
        "pos=np.arange(len(Property_Area))\n",
        "bar_width=0.35\n",
        "Loan_Status_Yes=[110,179,133]\n",
        "Loan_Status_NO=[69,54,69]\n",
        "\n",
        "plt.bar(pos,Loan_Status_Yes,bar_width,color='green',edgecolor='black')\n",
        "plt.bar(pos+bar_width,Loan_Status_NO,bar_width,color='orange',edgecolor='black')\n",
        "plt.xticks(pos, Property_Area)\n",
        "plt.xlabel('Property Area', fontsize=16)\n",
        "plt.ylabel('Count', fontsize=16)\n",
        "plt.title('Property Area vs Loan Status',fontsize=18)\n",
        "plt.legend(Loan_Status,loc=1)\n",
        "plt.show()\n"
      ],
      "execution_count": 14,
      "outputs": [
        {
          "output_type": "display_data",
          "data": {
            "image/png": "[encoded data removed]",
            "text/plain": [
              "<Figure size 432x288 with 1 Axes>"
            ]
          },
          "metadata": {
            "needs_background": "light"
          }
        }
      ]
    },
    {
      "cell_type": "markdown",
      "metadata": {
        "id": "aIwZ9pFrhh9x"
      },
      "source": [
        "From the chart above results we can infer that, the higher percentage of loan approval is for semi-urban houses followed by urban and rural houses."
      ]
    },
    {
      "cell_type": "code",
      "metadata": {
        "colab": {
          "base_uri": "https://localhost:8080/",
          "height": 307
        },
        "id": "OGl0xM7Vhh9y",
        "outputId": "41c67290-815b-4b3d-a69d-0d30b47d1b9d"
      },
      "source": [
        "#Relationship between Credit History and Loan Status: \n",
        "\n",
        "Credit_History=['Bad','Medium','Good']\n",
        "Loan_Status=['Yes', 'No']\n",
        "pos=np.arange(len(Credit_History))\n",
        "bar_width=0.35\n",
        "Loan_Status_Yes=[7,37,378]\n",
        "Loan_Status_NO=[82,13,97]\n",
        "\n",
        "plt.bar(pos,Loan_Status_Yes,bar_width,color='green',edgecolor='black')\n",
        "plt.bar(pos+bar_width,Loan_Status_NO,bar_width,color='orange',edgecolor='black')\n",
        "plt.xticks(pos, Credit_History)\n",
        "plt.xlabel('Credit History', fontsize=16)\n",
        "plt.ylabel('Count', fontsize=16)\n",
        "plt.title('Credit History vs Loan Status',fontsize=18)\n",
        "plt.legend(Loan_Status,loc=2)\n",
        "plt.show()"
      ],
      "execution_count": 15,
      "outputs": [
        {
          "output_type": "display_data",
          "data": {
            "image/png": "[encoded data removed]",
            "text/plain": [
              "<Figure size 432x288 with 1 Axes>"
            ]
          },
          "metadata": {
            "needs_background": "light"
          }
        }
      ]
    },
    {
      "cell_type": "markdown",
      "metadata": {
        "id": "uOTUzVqlhh9z"
      },
      "source": [
        "From the chart above results we can infer that, the higher percentage of loan approval is for customers with good credit history followed bycustomers with medium credit history and then the bad\n",
        "\n",
        "\n",
        "\n",
        "\n",
        "\n",
        "\n"
      ]
    },
    {
      "cell_type": "code",
      "metadata": {
        "colab": {
          "base_uri": "https://localhost:8080/",
          "height": 587
        },
        "id": "uI6GPFGQhh9z",
        "outputId": "6cbb86cb-ab5b-4a57-a494-5f70d9f14950"
      },
      "source": [
        "plt.figure(figsize=(10,8))\n",
        "sns.heatmap(data.corr(), annot=True, cmap='coolwarm');"
      ],
      "execution_count": 16,
      "outputs": [
        {
          "output_type": "display_data",
          "data": {
            "image/png": "[encoded data removed]",
            "text/plain": [
              "<Figure size 720x576 with 2 Axes>"
            ]
          },
          "metadata": {
            "needs_background": "light"
          }
        }
      ]
    },
    {
      "cell_type": "code",
      "metadata": {
        "colab": {
          "base_uri": "https://localhost:8080/"
        },
        "id": "a1niseLqhh90",
        "outputId": "d476b562-1dee-44e7-e3f1-2e6c4d4664f5"
      },
      "source": [
        "# print out column with unique values\n",
        "for col in data.columns:\n",
        "    if data[col].dtypes == 'object':\n",
        "        num_of_unique_cat = len (data[col].unique())\n",
        "        print(\"Features '{col_name}' has '{unique_cat}' unique categories\". format(col_name=col, unique_cat=num_of_unique_cat))"
      ],
      "execution_count": 17,
      "outputs": [
        {
          "output_type": "stream",
          "name": "stdout",
          "text": [
            "Features 'Loan_ID' has '614' unique categories\n",
            "Features 'Gender' has '3' unique categories\n",
            "Features 'Married' has '3' unique categories\n",
            "Features 'Dependents' has '5' unique categories\n",
            "Features 'Education' has '2' unique categories\n",
            "Features 'Self_Employed' has '3' unique categories\n",
            "Features 'Property_Area' has '3' unique categories\n",
            "Features 'Loan_Status' has '2' unique categories\n"
          ]
        }
      ]
    },
    {
      "cell_type": "code",
      "metadata": {
        "id": "AvJ1fjdfhh91"
      },
      "source": [
        "data = data.drop(['Loan_ID','Dependents',], axis = 1)\n"
      ],
      "execution_count": 18,
      "outputs": []
    },
    {
      "cell_type": "code",
      "metadata": {
        "id": "UdXheP_ohh91"
      },
      "source": [
        "data['Self_Employed'].replace({'Yes':1,'No':0},inplace=True)\n",
        "data['Married'].replace({'Yes':1,'No':0},inplace=True)\n",
        "data['Gender'].replace({'Male':1,'Female':0},inplace=True)\n",
        "data['Education'].replace({'Graduate':1,'Not Graduate':0},inplace=True)\n",
        "data['Property_Area'].replace({'Urban':2,'Semiurban':1,'Rural':0},inplace=True)\n",
        "data['Loan_Status'].replace({'Y':1,'N':0},inplace=True)"
      ],
      "execution_count": 19,
      "outputs": []
    },
    {
      "cell_type": "code",
      "metadata": {
        "id": "Lt2hs4qghh92"
      },
      "source": [
        "y = data['Loan_Status'] #target\n",
        "X = data.drop('Loan_Status', axis = 1) #prediators"
      ],
      "execution_count": 20,
      "outputs": []
    },
    {
      "cell_type": "code",
      "metadata": {
        "id": "UoZBkJpphh92"
      },
      "source": [
        "#Standardize the data - Feature Scaling\n",
        "\n",
        "from sklearn.preprocessing import StandardScaler\n",
        "sc_X = StandardScaler()\n",
        "X_scaled = pd.DataFrame(sc_X.fit_transform(X), columns=X.columns)"
      ],
      "execution_count": 21,
      "outputs": []
    },
    {
      "cell_type": "code",
      "metadata": {
        "id": "wA-bPx-yhh93"
      },
      "source": [
        "X_train, X_test, y_train, y_test = train_test_split(X, y, test_size=0.20, random_state=0)"
      ],
      "execution_count": 22,
      "outputs": []
    },
    {
      "cell_type": "code",
      "metadata": {
        "colab": {
          "base_uri": "https://localhost:8080/"
        },
        "id": "1s44SzmVhh93",
        "outputId": "97ee4ef4-ad37-4fc5-965e-df7823fac761"
      },
      "source": [
        "model = LogisticRegression() #define the model\n",
        "model.fit(X_train, y_train) #fit the model\n",
        "\n",
        "ypred = model.predict(X_test) #predict on test sample\n",
        "\n",
        "evaluation = f1_score(y_test, ypred)\n",
        "evaluation"
      ],
      "execution_count": 23,
      "outputs": [
        {
          "output_type": "execute_result",
          "data": {
            "text/plain": [
              "0.8365384615384616"
            ]
          },
          "metadata": {},
          "execution_count": 23
        }
      ]
    },
    {
      "cell_type": "code",
      "metadata": {
        "colab": {
          "base_uri": "https://localhost:8080/"
        },
        "id": "Gv3xL8F-hh94",
        "outputId": "2413940e-c5e4-40ae-89e3-a9056528d8f7"
      },
      "source": [
        "from sklearn.ensemble import RandomForestClassifier\n",
        "      \n",
        "rf_model = RandomForestClassifier(random_state=1, max_depth=10)     \n",
        "rf_model.fit(X_train, y_train) \n",
        "\n",
        "ypred = rf_model.predict(X_test) \n",
        "\n",
        "score = f1_score(y_test, ypred)     \n",
        "score"
      ],
      "execution_count": 24,
      "outputs": [
        {
          "output_type": "execute_result",
          "data": {
            "text/plain": [
              "0.88659793814433"
            ]
          },
          "metadata": {},
          "execution_count": 24
        }
      ]
    },
    {
      "cell_type": "code",
      "metadata": {
        "id": "A7_LJsrYhh95"
      },
      "source": [
        "pickle.dump(rf_model,open('rf_model.pkl','wb'))"
      ],
      "execution_count": 25,
      "outputs": []
    },
    {
      "cell_type": "code",
      "metadata": {
        "colab": {
          "base_uri": "https://localhost:8080/"
        },
        "id": "ElAajKWvhh96",
        "outputId": "ab8027c1-8ae7-4418-e2d2-eb2a059cba14"
      },
      "source": [
        "model = pickle.load(open('rf_model.pkl','rb'))\n",
        "print(model)"
      ],
      "execution_count": 26,
      "outputs": [
        {
          "output_type": "stream",
          "name": "stdout",
          "text": [
            "RandomForestClassifier(bootstrap=True, ccp_alpha=0.0, class_weight=None,\n",
            "                       criterion='gini', max_depth=10, max_features='auto',\n",
            "                       max_leaf_nodes=None, max_samples=None,\n",
            "                       min_impurity_decrease=0.0, min_impurity_split=None,\n",
            "                       min_samples_leaf=1, min_samples_split=2,\n",
            "                       min_weight_fraction_leaf=0.0, n_estimators=100,\n",
            "                       n_jobs=None, oob_score=False, random_state=1, verbose=0,\n",
            "                       warm_start=False)\n"
          ]
        }
      ]
    },
    {
      "cell_type": "code",
      "metadata": {
        "id": "AuugIfhahh96"
      },
      "source": [
        ""
      ],
      "execution_count": null,
      "outputs": []
    }
  ]
}